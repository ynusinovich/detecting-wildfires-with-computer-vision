{
 "cells": [
  {
   "cell_type": "code",
   "execution_count": 6,
   "id": "59a5fa8d",
   "metadata": {},
   "outputs": [],
   "source": [
    "# https://www.tensorflow.org/lite/convert\n",
    "# https://github.com/tensorflow/tensorflow/issues/41877"
   ]
  },
  {
   "cell_type": "code",
   "execution_count": 5,
   "id": "5f6e688e",
   "metadata": {},
   "outputs": [
    {
     "name": "stderr",
     "output_type": "stream",
     "text": [
      "2021-12-29 18:57:36.010741: W tensorflow/compiler/mlir/lite/python/tf_tfl_flatbuffer_helpers.cc:351] Ignored output_format.\n",
      "2021-12-29 18:57:36.010753: W tensorflow/compiler/mlir/lite/python/tf_tfl_flatbuffer_helpers.cc:354] Ignored drop_control_dependency.\n",
      "2021-12-29 18:57:36.010757: W tensorflow/compiler/mlir/lite/python/tf_tfl_flatbuffer_helpers.cc:360] Ignored change_concat_input_ranges.\n",
      "2021-12-29 18:57:36.010869: I tensorflow/cc/saved_model/reader.cc:38] Reading SavedModel from: ./exported_models/centernet_resnet50_v2_512x512_coco17_tpu-8/saved_model\n",
      "2021-12-29 18:57:36.074444: I tensorflow/cc/saved_model/reader.cc:90] Reading meta graph with tags { serve }\n",
      "2021-12-29 18:57:36.074458: I tensorflow/cc/saved_model/reader.cc:132] Reading SavedModel debug info (if present) from: ./exported_models/centernet_resnet50_v2_512x512_coco17_tpu-8/saved_model\n",
      "2021-12-29 18:57:36.365832: I tensorflow/cc/saved_model/loader.cc:211] Restoring SavedModel bundle.\n",
      "2021-12-29 18:57:36.977110: I tensorflow/cc/saved_model/loader.cc:195] Running initialization op on SavedModel bundle at path: ./exported_models/centernet_resnet50_v2_512x512_coco17_tpu-8/saved_model\n",
      "2021-12-29 18:57:37.181868: I tensorflow/cc/saved_model/loader.cc:283] SavedModel load for tags { serve }; Status: success: OK. Took 1171000 microseconds.\n",
      "2021-12-29 18:57:39.091506: W tensorflow/compiler/mlir/lite/flatbuffer_export.cc:1838] TFLite interpreter needs to link Flex delegate in order to run the model since it contains the following flex op(s):\n",
      "Flex ops: FlexTensorListFromTensor, FlexTensorListGetItem, FlexTensorListReserve, FlexTensorListSetItem, FlexTensorListStack\n",
      "Details:\n",
      "\ttf.TensorListFromTensor(tensor<1x?x?x3xui8>, tensor<3xi32>) -> (tensor<!tf.variant<tensor<?x?x3xui8>>>) : {device = \"\"}\n",
      "\ttf.TensorListGetItem(tensor<!tf.variant<tensor<?x?x3xui8>>>, tensor<i32>, tensor<3xi32>) -> (tensor<?x?x3xui8>) : {device = \"\"}\n",
      "\ttf.TensorListReserve(tensor<i32>, tensor<i32>) -> (tensor<!tf.variant<tensor<*xf32>>>) : {device = \"\"}\n",
      "\ttf.TensorListReserve(tensor<i32>, tensor<i32>) -> (tensor<!tf.variant<tensor<*xi32>>>) : {device = \"\"}\n",
      "\ttf.TensorListSetItem(tensor<!tf.variant<tensor<*xf32>>>, tensor<i32>, tensor<?x?x3xf32>) -> (tensor<!tf.variant<tensor<*xf32>>>) : {device = \"\"}\n",
      "\ttf.TensorListSetItem(tensor<!tf.variant<tensor<*xi32>>>, tensor<i32>, tensor<3xi32>) -> (tensor<!tf.variant<tensor<*xi32>>>) : {device = \"\"}\n",
      "\ttf.TensorListStack(tensor<!tf.variant<tensor<*xf32>>>, tensor<3xi32>) -> (tensor<1x512x512x3xf32>) : {device = \"\", num_elements = 1 : i64}\n",
      "\ttf.TensorListStack(tensor<!tf.variant<tensor<*xi32>>>, tensor<1xi32>) -> (tensor<1x3xi32>) : {device = \"\", num_elements = 1 : i64}\n",
      "2021-12-29 18:57:39.247802: I tensorflow/lite/tools/optimize/quantize_weights.cc:225] Skipping quantization of tensor box_offset_0/conv2d_7/Conv2D because it has fewer than 1024 elements (512).\n",
      "2021-12-29 18:57:39.247819: I tensorflow/lite/tools/optimize/quantize_weights.cc:225] Skipping quantization of tensor box_scale_0/conv2d_5/Conv2D because it has fewer than 1024 elements (512).\n",
      "2021-12-29 18:57:39.247823: I tensorflow/lite/tools/optimize/quantize_weights.cc:225] Skipping quantization of tensor center_0/conv2d_3/Conv2D because it has fewer than 1024 elements (256).\n"
     ]
    }
   ],
   "source": [
    "saved_model_dir = os.path.join(\"./exported_models/\", \"centernet_resnet50_v2_512x512_coco17_tpu-8\", \"saved_model\")\n",
    "\n",
    "import tensorflow as tf\n",
    "\n",
    "# Convert the model\n",
    "converter = tf.lite.TFLiteConverter.from_saved_model(saved_model_dir, signature_keys=['serving_default'])\n",
    "converter.optimizations = [tf.lite.Optimize.DEFAULT]\n",
    "converter.experimental_new_converter = True\n",
    "converter.target_spec.supported_ops = [tf.lite.OpsSet.TFLITE_BUILTINS, tf.lite.OpsSet.SELECT_TF_OPS]\n",
    "\n",
    "tflite_model = converter.convert()\n",
    "\n",
    "# Save the model.\n",
    "with open('model.tflite', 'wb') as f:\n",
    "  f.write(tflite_model)"
   ]
  },
  {
   "cell_type": "code",
   "execution_count": null,
   "id": "1643be7f",
   "metadata": {},
   "outputs": [],
   "source": []
  }
 ],
 "metadata": {
  "kernelspec": {
   "display_name": "fire_detection_venv",
   "language": "python",
   "name": "fire_detection_venv"
  },
  "language_info": {
   "codemirror_mode": {
    "name": "ipython",
    "version": 3
   },
   "file_extension": ".py",
   "mimetype": "text/x-python",
   "name": "python",
   "nbconvert_exporter": "python",
   "pygments_lexer": "ipython3",
   "version": "3.9.7"
  }
 },
 "nbformat": 4,
 "nbformat_minor": 5
}
