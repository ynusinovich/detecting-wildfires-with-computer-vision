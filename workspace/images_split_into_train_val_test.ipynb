{
 "cells": [
  {
   "cell_type": "code",
   "execution_count": 4,
   "metadata": {},
   "outputs": [],
   "source": [
    "import pandas as pd\n",
    "import numpy as np\n",
    "from shutil import copyfile\n",
    "import os\n",
    "import glob\n",
    "from sklearn.model_selection import train_test_split"
   ]
  },
  {
   "cell_type": "markdown",
   "metadata": {},
   "source": [
    "### Yan Labels"
   ]
  },
  {
   "cell_type": "code",
   "execution_count": 56,
   "metadata": {},
   "outputs": [
    {
     "name": "stdout",
     "output_type": "stream",
     "text": [
      "466\n"
     ]
    }
   ],
   "source": [
    "yan_files = glob.glob(\"./labeled_data/Yan_images/images/*.jpg\")\n",
    "print(len(yan_files))"
   ]
  },
  {
   "cell_type": "code",
   "execution_count": 57,
   "metadata": {},
   "outputs": [
    {
     "name": "stdout",
     "output_type": "stream",
     "text": [
      "349\n",
      "76 41\n"
     ]
    }
   ],
   "source": [
    "yan_files_train, yan_files_validation_and_test = train_test_split(yan_files, test_size = 0.25)\n",
    "print(len(yan_files_train))\n",
    "yan_files_validation, yan_files_test = train_test_split(yan_files_validation_and_test, test_size = 0.35)\n",
    "print(len(yan_files_validation), len(yan_files_test))"
   ]
  },
  {
   "cell_type": "code",
   "execution_count": 58,
   "metadata": {},
   "outputs": [],
   "source": [
    "def copy_files(train_validation_test, file_list, name):\n",
    "    for index in range(0, len(file_list)):\n",
    "        filename = file_list[index].split(\"/\")[-1][:-4]\n",
    "        copyfile(f\"./labeled_data/{name}_images/images/{filename}.jpg\", f\"./labeled_data/{train_validation_test}/{filename}.jpg\")\n",
    "        copyfile(f\"./labeled_data/{name}_images/annotations/{filename}.xml\", f\"./labeled_data/{train_validation_test}/{filename}.xml\") \n",
    "    return None"
   ]
  },
  {
   "cell_type": "code",
   "execution_count": 59,
   "metadata": {},
   "outputs": [],
   "source": [
    "copy_files(\"train\", yan_files_train, \"Yan\")\n",
    "copy_files(\"validation\", yan_files_validation, \"Yan\")\n",
    "copy_files(\"test\", yan_files_test, \"Yan\")\n"
   ]
  },
  {
   "cell_type": "markdown",
   "metadata": {},
   "source": [
    "### Ammar Labels"
   ]
  },
  {
   "cell_type": "code",
   "execution_count": 60,
   "metadata": {},
   "outputs": [
    {
     "name": "stdout",
     "output_type": "stream",
     "text": [
      "433\n"
     ]
    }
   ],
   "source": [
    "ammar_files = glob.glob(\"./labeled_data/Ammar_images/*.jpg\")\n",
    "print(len(ammar_files))"
   ]
  },
  {
   "cell_type": "code",
   "execution_count": 61,
   "metadata": {},
   "outputs": [
    {
     "name": "stdout",
     "output_type": "stream",
     "text": [
      "324\n",
      "70 39\n"
     ]
    }
   ],
   "source": [
    "ammar_files_train, ammar_files_validation_and_test = train_test_split(ammar_files, test_size = 0.25)\n",
    "print(len(ammar_files_train))\n",
    "ammar_files_validation, ammar_files_test = train_test_split(ammar_files_validation_and_test, test_size = 0.35)\n",
    "print(len(ammar_files_validation), len(ammar_files_test))"
   ]
  },
  {
   "cell_type": "code",
   "execution_count": 62,
   "metadata": {},
   "outputs": [],
   "source": [
    "def copy_files(train_validation_test, file_list, name):\n",
    "    for index in range(0, len(file_list)):\n",
    "        filename = file_list[index].split(\"/\")[-1][:-4]\n",
    "        copyfile(f\"./labeled_data/{name}_images/{filename}.jpg\", f\"./labeled_data/{train_validation_test}/{filename}.jpg\")\n",
    "        copyfile(f\"./labeled_data/{name}_images/{filename}.xml\", f\"./labeled_data/{train_validation_test}/{filename}.xml\") \n",
    "    return None"
   ]
  },
  {
   "cell_type": "code",
   "execution_count": 63,
   "metadata": {},
   "outputs": [],
   "source": [
    "copy_files(\"train\", ammar_files_train, \"Ammar\")\n",
    "copy_files(\"validation\", ammar_files_validation, \"Ammar\")\n",
    "copy_files(\"test\", ammar_files_test, \"Ammar\")\n"
   ]
  },
  {
   "cell_type": "markdown",
   "metadata": {},
   "source": [
    "### Run `xml_to_csv.py` at This Step"
   ]
  },
  {
   "cell_type": "markdown",
   "metadata": {},
   "source": [
    "### Alcides Labels"
   ]
  },
  {
   "cell_type": "code",
   "execution_count": 108,
   "metadata": {},
   "outputs": [
    {
     "name": "stdout",
     "output_type": "stream",
     "text": [
      "433\n"
     ]
    }
   ],
   "source": [
    "alcides_files = glob.glob(\"./labeled_data/Alcides_images/images/*.jpg\")\n",
    "print(len(ammar_files))"
   ]
  },
  {
   "cell_type": "code",
   "execution_count": 109,
   "metadata": {},
   "outputs": [
    {
     "name": "stdout",
     "output_type": "stream",
     "text": [
      "375\n",
      "81 44\n"
     ]
    }
   ],
   "source": [
    "alcides_files_train, alcides_files_validation_and_test = train_test_split(alcides_files, test_size = 0.25)\n",
    "print(len(alcides_files_train))\n",
    "alcides_files_validation, alcides_files_test = train_test_split(alcides_files_validation_and_test, test_size = 0.35)\n",
    "print(len(alcides_files_validation), len(alcides_files_test))"
   ]
  },
  {
   "cell_type": "code",
   "execution_count": 110,
   "metadata": {},
   "outputs": [
    {
     "data": {
      "text/html": [
       "<div>\n",
       "<style scoped>\n",
       "    .dataframe tbody tr th:only-of-type {\n",
       "        vertical-align: middle;\n",
       "    }\n",
       "\n",
       "    .dataframe tbody tr th {\n",
       "        vertical-align: top;\n",
       "    }\n",
       "\n",
       "    .dataframe thead th {\n",
       "        text-align: right;\n",
       "    }\n",
       "</style>\n",
       "<table border=\"1\" class=\"dataframe\">\n",
       "  <thead>\n",
       "    <tr style=\"text-align: right;\">\n",
       "      <th></th>\n",
       "      <th>width</th>\n",
       "      <th>height</th>\n",
       "      <th>class</th>\n",
       "      <th>xmin</th>\n",
       "      <th>ymin</th>\n",
       "      <th>xmax</th>\n",
       "      <th>ymax</th>\n",
       "    </tr>\n",
       "    <tr>\n",
       "      <th>filename</th>\n",
       "      <th></th>\n",
       "      <th></th>\n",
       "      <th></th>\n",
       "      <th></th>\n",
       "      <th></th>\n",
       "      <th></th>\n",
       "      <th></th>\n",
       "    </tr>\n",
       "  </thead>\n",
       "  <tbody>\n",
       "    <tr>\n",
       "      <th>img_15442</th>\n",
       "      <td>254</td>\n",
       "      <td>254</td>\n",
       "      <td>Fire</td>\n",
       "      <td>116</td>\n",
       "      <td>137</td>\n",
       "      <td>129</td>\n",
       "      <td>152</td>\n",
       "    </tr>\n",
       "    <tr>\n",
       "      <th>img_15442</th>\n",
       "      <td>254</td>\n",
       "      <td>254</td>\n",
       "      <td>Fire</td>\n",
       "      <td>142</td>\n",
       "      <td>49</td>\n",
       "      <td>155</td>\n",
       "      <td>66</td>\n",
       "    </tr>\n",
       "    <tr>\n",
       "      <th>img_15442</th>\n",
       "      <td>254</td>\n",
       "      <td>254</td>\n",
       "      <td>Fire</td>\n",
       "      <td>178</td>\n",
       "      <td>130</td>\n",
       "      <td>194</td>\n",
       "      <td>151</td>\n",
       "    </tr>\n",
       "    <tr>\n",
       "      <th>img_24195</th>\n",
       "      <td>254</td>\n",
       "      <td>254</td>\n",
       "      <td>Fire</td>\n",
       "      <td>56</td>\n",
       "      <td>163</td>\n",
       "      <td>69</td>\n",
       "      <td>177</td>\n",
       "    </tr>\n",
       "    <tr>\n",
       "      <th>img_24195</th>\n",
       "      <td>254</td>\n",
       "      <td>254</td>\n",
       "      <td>Fire</td>\n",
       "      <td>132</td>\n",
       "      <td>103</td>\n",
       "      <td>145</td>\n",
       "      <td>117</td>\n",
       "    </tr>\n",
       "    <tr>\n",
       "      <th>...</th>\n",
       "      <td>...</td>\n",
       "      <td>...</td>\n",
       "      <td>...</td>\n",
       "      <td>...</td>\n",
       "      <td>...</td>\n",
       "      <td>...</td>\n",
       "      <td>...</td>\n",
       "    </tr>\n",
       "    <tr>\n",
       "      <th>img_12815</th>\n",
       "      <td>254</td>\n",
       "      <td>254</td>\n",
       "      <td>Fire</td>\n",
       "      <td>83</td>\n",
       "      <td>137</td>\n",
       "      <td>100</td>\n",
       "      <td>160</td>\n",
       "    </tr>\n",
       "    <tr>\n",
       "      <th>img_12815</th>\n",
       "      <td>254</td>\n",
       "      <td>254</td>\n",
       "      <td>Fire</td>\n",
       "      <td>115</td>\n",
       "      <td>-1</td>\n",
       "      <td>146</td>\n",
       "      <td>18</td>\n",
       "    </tr>\n",
       "    <tr>\n",
       "      <th>img_12815</th>\n",
       "      <td>254</td>\n",
       "      <td>254</td>\n",
       "      <td>Fire</td>\n",
       "      <td>125</td>\n",
       "      <td>174</td>\n",
       "      <td>142</td>\n",
       "      <td>192</td>\n",
       "    </tr>\n",
       "    <tr>\n",
       "      <th>img_12815</th>\n",
       "      <td>254</td>\n",
       "      <td>254</td>\n",
       "      <td>Fire</td>\n",
       "      <td>152</td>\n",
       "      <td>104</td>\n",
       "      <td>164</td>\n",
       "      <td>118</td>\n",
       "    </tr>\n",
       "    <tr>\n",
       "      <th>img_19162</th>\n",
       "      <td>254</td>\n",
       "      <td>254</td>\n",
       "      <td>Fire</td>\n",
       "      <td>113</td>\n",
       "      <td>77</td>\n",
       "      <td>127</td>\n",
       "      <td>91</td>\n",
       "    </tr>\n",
       "  </tbody>\n",
       "</table>\n",
       "<p>566 rows × 7 columns</p>\n",
       "</div>"
      ],
      "text/plain": [
       "           width  height class  xmin  ymin  xmax  ymax\n",
       "filename                                              \n",
       "img_15442    254     254  Fire   116   137   129   152\n",
       "img_15442    254     254  Fire   142    49   155    66\n",
       "img_15442    254     254  Fire   178   130   194   151\n",
       "img_24195    254     254  Fire    56   163    69   177\n",
       "img_24195    254     254  Fire   132   103   145   117\n",
       "...          ...     ...   ...   ...   ...   ...   ...\n",
       "img_12815    254     254  Fire    83   137   100   160\n",
       "img_12815    254     254  Fire   115    -1   146    18\n",
       "img_12815    254     254  Fire   125   174   142   192\n",
       "img_12815    254     254  Fire   152   104   164   118\n",
       "img_19162    254     254  Fire   113    77   127    91\n",
       "\n",
       "[566 rows x 7 columns]"
      ]
     },
     "execution_count": 110,
     "metadata": {},
     "output_type": "execute_result"
    }
   ],
   "source": [
    "alcides_labels = pd.read_csv(\"./labeled_data/Alcides_images/data/_annot.csv\", index_col = \"filename\")\n",
    "alcides_labels"
   ]
  },
  {
   "cell_type": "code",
   "execution_count": 111,
   "metadata": {},
   "outputs": [],
   "source": [
    "def add_labels(train_validation_test, file_list, name):\n",
    "    \n",
    "    yan_ammar_labels_train = pd.read_csv(\"./labeled_data/train_labels.csv\", index_col = \"filename\")\n",
    "    yan_ammar_labels_validation = pd.read_csv(\"./labeled_data/validation_labels.csv\", index_col = \"filename\")\n",
    "    yan_ammar_labels_test = pd.read_csv(\"./labeled_data/test_labels.csv\", index_col = \"filename\")\n",
    "    \n",
    "    for index in range(0, len(file_list)):\n",
    "        filename = file_list[index].split(\"/\")[-1][:-4]\n",
    "        copyfile(f\"./labeled_data/{name}_images/images/{filename}.jpg\", f\"./labeled_data/{train_validation_test}/{filename}.jpg\")\n",
    "        if train_validation_test == \"train\":\n",
    "            try:\n",
    "                yan_ammar_labels_train = yan_ammar_labels_train.append(alcides_labels.loc[filename])\n",
    "            except:\n",
    "                pass\n",
    "        if train_validation_test == \"validation\":\n",
    "            try:\n",
    "                yan_ammar_labels_validation = yan_ammar_labels_validation.append(alcides_labels.loc[filename])\n",
    "            except:\n",
    "                pass\n",
    "        if train_validation_test == \"test\":\n",
    "            try:\n",
    "                yan_ammar_labels_test = yan_ammar_labels_test.append(alcides_labels.loc[filename])\n",
    "            except:\n",
    "                pass\n",
    "    if train_validation_test == \"train\":\n",
    "        yan_ammar_labels_train.to_csv(\"./labeled_data/train_labels.csv\", index = True)\n",
    "    if train_validation_test == \"validation\":\n",
    "        yan_ammar_labels_validation.to_csv(\"./labeled_data/validation_labels.csv\", index = True)\n",
    "    if train_validation_test == \"test\":\n",
    "        yan_ammar_labels_test.to_csv(\"./labeled_data/test_labels.csv\", index = True)\n",
    "    return None"
   ]
  },
  {
   "cell_type": "code",
   "execution_count": 112,
   "metadata": {},
   "outputs": [],
   "source": [
    "add_labels(\"train\", alcides_files_train, \"Alcides\")\n",
    "add_labels(\"validation\", alcides_files_validation, \"Alcides\")\n",
    "add_labels(\"test\", alcides_files_test, \"Alcides\")"
   ]
  },
  {
   "cell_type": "markdown",
   "metadata": {},
   "source": [
    "### Fix Label Consistency"
   ]
  },
  {
   "cell_type": "code",
   "execution_count": 3,
   "metadata": {},
   "outputs": [],
   "source": [
    "yan_ammar_labels_train = pd.read_csv(\"./labeled_data/train_labels.csv\", index_col = \"filename\")\n",
    "yan_ammar_labels_validation = pd.read_csv(\"./labeled_data/validation_labels.csv\", index_col = \"filename\")\n",
    "yan_ammar_labels_test = pd.read_csv(\"./labeled_data/test_labels.csv\", index_col = \"filename\")\n",
    "\n",
    "yan_ammar_labels_train[\"class\"] = \"fire\"\n",
    "yan_ammar_labels_validation[\"class\"] = \"fire\"\n",
    "yan_ammar_labels_test[\"class\"] = \"fire\"\n",
    "\n",
    "yan_ammar_labels_train.to_csv(\"./labeled_data/train_labels.csv\", index = True)\n",
    "yan_ammar_labels_validation.to_csv(\"./labeled_data/validation_labels.csv\", index = True)\n",
    "yan_ammar_labels_test.to_csv(\"./labeled_data/test_labels.csv\", index = True)"
   ]
  }
 ],
 "metadata": {
  "kernelspec": {
   "display_name": "fire_detection_venv",
   "language": "python",
   "name": "fire_detection_venv"
  },
  "language_info": {
   "codemirror_mode": {
    "name": "ipython",
    "version": 3
   },
   "file_extension": ".py",
   "mimetype": "text/x-python",
   "name": "python",
   "nbconvert_exporter": "python",
   "pygments_lexer": "ipython3",
   "version": "3.7.6"
  }
 },
 "nbformat": 4,
 "nbformat_minor": 5
}
