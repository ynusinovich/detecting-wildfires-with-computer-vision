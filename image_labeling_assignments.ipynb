{
 "cells": [
  {
   "cell_type": "code",
   "execution_count": 67,
   "metadata": {},
   "outputs": [],
   "source": [
    "import pandas as pd\n",
    "import numpy as np\n",
    "import random\n",
    "from shutil import copyfile\n",
    "import ast\n",
    "import json\n",
    "import os"
   ]
  },
  {
   "cell_type": "markdown",
   "metadata": {},
   "source": [
    "Generate Assignments"
   ]
  },
  {
   "cell_type": "code",
   "execution_count": 68,
   "metadata": {},
   "outputs": [],
   "source": [
    "# names = [\"Ammar\", \"Michael\", \"Alcides\", \"Andre\", \"Harsh\", \"Marta\", \"Josh\", \"Yan\", \"Anh\", \"Simen\", \"Arman\"]"
   ]
  },
  {
   "cell_type": "code",
   "execution_count": 69,
   "metadata": {},
   "outputs": [],
   "source": [
    "# num_fire_images_nomask = 27527"
   ]
  },
  {
   "cell_type": "code",
   "execution_count": 70,
   "metadata": {},
   "outputs": [],
   "source": [
    "# fire_images_nomask_assignments = [None] * len(names)\n",
    "\n",
    "# assignments_df = pd.DataFrame(index = names, columns = [\"non_masked_label_assignments\"], dtype = object)\n",
    "\n",
    "# for index in range(0, len(names)):\n",
    "#     fire_images_nomask_assignments = random.sample(range(0, num_fire_images_nomask + 1), 500)\n",
    "    \n",
    "#     assignments_df.at[assignments_df.index[index], \"non_masked_label_assignments\"] = fire_images_nomask_assignments\n",
    "    \n",
    "# assignments_df.to_csv(\"./image_labeling_assignments.csv\")"
   ]
  },
  {
   "cell_type": "code",
   "execution_count": 71,
   "metadata": {},
   "outputs": [],
   "source": [
    "# assignments_df"
   ]
  },
  {
   "cell_type": "markdown",
   "metadata": {},
   "source": [
    "Load Assignments"
   ]
  },
  {
   "cell_type": "code",
   "execution_count": 72,
   "metadata": {},
   "outputs": [],
   "source": [
    "# assignments_df = pd.read_csv(\"./image_labeling_assignments.csv\", index_col = 0)\n",
    "# assignments_df_yan = ast.literal_eval(assignments_df.loc[\"Yan\", :][0])\n",
    "# assignments_df_yan"
   ]
  },
  {
   "cell_type": "code",
   "execution_count": 73,
   "metadata": {},
   "outputs": [],
   "source": [
    "# for image in assignments_df_yan:\n",
    "#     try:\n",
    "#         copyfile(f\"./Training/Fire/resized_frame{image}.jpg\", f\"./Training_Fire_No_Mask_to_Label/{image}.jpg\")\n",
    "#     except:\n",
    "#         pass"
   ]
  },
  {
   "cell_type": "markdown",
   "metadata": {},
   "source": [
    "Adjust Assignment IDs (Deprecated, I Used XML Format Instead)"
   ]
  },
  {
   "cell_type": "code",
   "execution_count": 1,
   "metadata": {},
   "outputs": [],
   "source": [
    "# with open(\"training_fire_no_mask_labeled_unordered_yan.json\") as f:\n",
    "#     data = json.load(f)\n",
    "# data"
   ]
  },
  {
   "cell_type": "code",
   "execution_count": 2,
   "metadata": {},
   "outputs": [],
   "source": [
    "# ids = []\n",
    "# for index in range(0, len(data)):\n",
    "#     ids.append(data[index][\"id\"])\n",
    "# ids.sort()\n",
    "# ids"
   ]
  },
  {
   "cell_type": "code",
   "execution_count": 3,
   "metadata": {},
   "outputs": [],
   "source": [
    "# picture_names = []\n",
    "# for root, dirs, files in os.walk(\"./Training_Fire_No_Mask_to_Label\"):\n",
    "#     for file in files:\n",
    "#         if file.endswith('.jpg'):\n",
    "#             picture_names.append(int(file[:-4]))\n",
    "# picture_names.sort()\n",
    "# picture_names"
   ]
  },
  {
   "cell_type": "code",
   "execution_count": 4,
   "metadata": {},
   "outputs": [],
   "source": [
    "# ids_to_pictures = dict(zip(ids, picture_names))\n",
    "# ids_to_pictures"
   ]
  },
  {
   "cell_type": "code",
   "execution_count": 5,
   "metadata": {},
   "outputs": [],
   "source": [
    "# new_data = data.copy()\n",
    "# for index in range(0, len(data)):\n",
    "#     current_id = data[index][\"id\"]\n",
    "#     position = ids.index(current_id)\n",
    "#     corresponding_image = picture_names[position]\n",
    "#     new_data[index][\"id\"] = ids_to_pictures[data[index][\"id\"]]\n",
    "# new_data"
   ]
  },
  {
   "cell_type": "code",
   "execution_count": 6,
   "metadata": {},
   "outputs": [],
   "source": [
    "# with open(\"training_fire_no_mask_labeled_ordered_yan.json\", 'w') as json_file:\n",
    "#     json.dump(new_data, json_file)"
   ]
  },
  {
   "cell_type": "code",
   "execution_count": null,
   "metadata": {},
   "outputs": [],
   "source": []
  }
 ],
 "metadata": {
  "kernelspec": {
   "display_name": "fire_detection_venv",
   "language": "python",
   "name": "fire_detection_venv"
  },
  "language_info": {
   "codemirror_mode": {
    "name": "ipython",
    "version": 3
   },
   "file_extension": ".py",
   "mimetype": "text/x-python",
   "name": "python",
   "nbconvert_exporter": "python",
   "pygments_lexer": "ipython3",
   "version": "3.7.6"
  }
 },
 "nbformat": 4,
 "nbformat_minor": 4
}
